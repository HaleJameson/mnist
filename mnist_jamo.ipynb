{
 "cells": [
  {
   "cell_type": "code",
   "execution_count": 52,
   "id": "parliamentary-texas",
   "metadata": {},
   "outputs": [],
   "source": [
    "import pandas as pd\n",
    "import seaborn as sns\n",
    "import tensorflow as tf\n",
    "import tensorflow.keras as keras\n",
    "import matplotlib.pyplot as plt\n",
    "import sklearn as sk\n",
    "import numpy as np"
   ]
  },
  {
   "cell_type": "code",
   "execution_count": 20,
   "id": "stable-mexican",
   "metadata": {},
   "outputs": [
    {
     "name": "stdout",
     "output_type": "stream",
     "text": [
      "Train_ x (60000, 28, 28)\n",
      "Train_ y (60000,)\n",
      "Test_ x (10000, 28, 28)\n",
      "Test_ y (10000,)\n"
     ]
    }
   ],
   "source": [
    "(train_x, train_y), (test_x, test_y) = tf.keras.datasets.mnist.load_data()\n",
    "\n",
    "print(\"Train_ x\", train_x.shape)\n",
    "print(\"Train_ y\", train_y.shape)\n",
    "print(\"Test_ x\", test_x.shape)\n",
    "print(\"Test_ y\", test_y.shape)"
   ]
  },
  {
   "cell_type": "code",
   "execution_count": 21,
   "id": "little-potato",
   "metadata": {},
   "outputs": [
    {
     "name": "stdout",
     "output_type": "stream",
     "text": [
      "5\n",
      "0\n",
      "4\n",
      "1\n",
      "9\n"
     ]
    },
    {
     "data": {
      "image/png": "[encoded data removed]",
      "text/plain": [
       "<Figure size 432x288 with 1 Axes>"
      ]
     },
     "metadata": {
      "needs_background": "light"
     },
     "output_type": "display_data"
    }
   ],
   "source": [
    "for i in range(0,5):\n",
    "    plt.imshow(train_x[i])\n",
    "    print(train_y[i])"
   ]
  },
  {
   "cell_type": "markdown",
   "id": "forty-auditor",
   "metadata": {},
   "source": []
  },
  {
   "cell_type": "code",
   "execution_count": 22,
   "id": "capital-parcel",
   "metadata": {},
   "outputs": [
    {
     "data": {
      "text/plain": [
       "<matplotlib.image.AxesImage at 0x7f8dc4c31640>"
      ]
     },
     "execution_count": 22,
     "metadata": {},
     "output_type": "execute_result"
    },
    {
     "data": {
      "image/png": "[encoded data removed]",
      "text/plain": [
       "<Figure size 432x288 with 1 Axes>"
      ]
     },
     "metadata": {
      "needs_background": "light"
     },
     "output_type": "display_data"
    }
   ],
   "source": [
    "plt.imshow(test_x[0])"
   ]
  },
  {
   "cell_type": "code",
   "execution_count": 45,
   "id": "hungry-pendant",
   "metadata": {},
   "outputs": [],
   "source": [
    "# Reshape the data to add the grayscale dimension\n",
    "img_rows=train_x[0].shape[0]\n",
    "img_cols=train_x[0].shape[1]\n",
    "\n",
    "train_x=train_x.reshape(train_x.shape[0],img_rows,img_cols,1)\n",
    "\n",
    "test_x=test_x.reshape(test_x.shape[0],img_rows,img_cols,1)\n",
    "\n",
    "input_shape = (28,28,1)"
   ]
  },
  {
   "cell_type": "code",
   "execution_count": 121,
   "id": "affiliated-accounting",
   "metadata": {},
   "outputs": [],
   "source": [
    "# Simple model for a baseline\n",
    "model = keras.Sequential(name=\"baseline_mnist\")\n",
    "model.add(keras.layers.Conv2D(10, kernel_size=(5, 5), activation=\"relu\", name=\"conv1\", padding='valid', strides=(1,1), input_shape=(28, 28, 1)))\n",
    "model.add(keras.layers.Conv2D(20, kernel_size=(3, 3), padding='same', activation=\"relu\", name=\"conv2\"))\n",
    "model.add(keras.layers.MaxPooling2D(pool_size=(3,3), strides=(1, 1), padding='valid', name='pool1'))\n",
    "model.add(keras.layers.Flatten())\n",
    "model.add(keras.layers.Dense(10, activation='softmax', name=\"output\"))\n",
    "\n",
    "model.compile(loss='sparse_categorical_crossentropy', \n",
    "              optimizer='adam',\n",
    "              metrics=['accuracy'])"
   ]
  },
  {
   "cell_type": "code",
   "execution_count": 122,
   "id": "acute-puppy",
   "metadata": {},
   "outputs": [
    {
     "name": "stdout",
     "output_type": "stream",
     "text": [
      "Epoch 1/10\n",
      "1875/1875 [==============================] - 10s 5ms/step - loss: 7.8338 - accuracy: 0.8758\n",
      "Epoch 2/10\n",
      "1875/1875 [==============================] - 9s 5ms/step - loss: 0.0738 - accuracy: 0.9792\n",
      "Epoch 3/10\n",
      "1875/1875 [==============================] - 9s 5ms/step - loss: 0.0623 - accuracy: 0.9827\n",
      "Epoch 4/10\n",
      "1875/1875 [==============================] - 9s 5ms/step - loss: 0.0732 - accuracy: 0.9799\n",
      "Epoch 5/10\n",
      "1875/1875 [==============================] - 9s 5ms/step - loss: 0.0659 - accuracy: 0.9829\n",
      "Epoch 6/10\n",
      "1875/1875 [==============================] - 9s 5ms/step - loss: 0.0630 - accuracy: 0.9835\n",
      "Epoch 7/10\n",
      "1875/1875 [==============================] - 9s 5ms/step - loss: 0.0580 - accuracy: 0.9852\n",
      "Epoch 8/10\n",
      "1875/1875 [==============================] - 10s 5ms/step - loss: 0.0544 - accuracy: 0.9866\n",
      "Epoch 9/10\n",
      "1875/1875 [==============================] - 10s 5ms/step - loss: 0.0434 - accuracy: 0.9893\n",
      "Epoch 10/10\n",
      "1875/1875 [==============================] - 9s 5ms/step - loss: 0.0406 - accuracy: 0.9904\n"
     ]
    },
    {
     "data": {
      "text/plain": [
       "<tensorflow.python.keras.callbacks.History at 0x7f8d482f7a60>"
      ]
     },
     "execution_count": 122,
     "metadata": {},
     "output_type": "execute_result"
    }
   ],
   "source": [
    "model.fit(train_x, train_y, epochs=10)"
   ]
  },
  {
   "cell_type": "code",
   "execution_count": 69,
   "id": "toxic-country",
   "metadata": {},
   "outputs": [
    {
     "name": "stdout",
     "output_type": "stream",
     "text": [
      "Model: \"my_sequential\"\n",
      "_________________________________________________________________\n",
      "Layer (type)                 Output Shape              Param #   \n",
      "=================================================================\n",
      "conv1 (Conv2D)               (None, 24, 24, 10)        260       \n",
      "_________________________________________________________________\n",
      "conv2 (Conv2D)               (None, 24, 24, 20)        1820      \n",
      "_________________________________________________________________\n",
      "pool1 (MaxPooling2D)         (None, 22, 22, 20)        0         \n",
      "_________________________________________________________________\n",
      "flatten_6 (Flatten)          (None, 9680)              0         \n",
      "_________________________________________________________________\n",
      "output (Dense)               (None, 10)                96810     \n",
      "=================================================================\n",
      "Total params: 98,890\n",
      "Trainable params: 98,890\n",
      "Non-trainable params: 0\n",
      "_________________________________________________________________\n"
     ]
    }
   ],
   "source": [
    "model.summary()"
   ]
  },
  {
   "cell_type": "code",
   "execution_count": 110,
   "id": "happy-lighter",
   "metadata": {},
   "outputs": [],
   "source": [
    "output = model.predict(test_x)\n",
    "predictions = []\n",
    "test_predictions = []"
   ]
  },
  {
   "cell_type": "markdown",
   "id": "african-password",
   "metadata": {},
   "source": [
    "Here, I manually calculate the test set accuracy. Later, I just use the model.evaluate() method which does this automatically"
   ]
  },
  {
   "cell_type": "code",
   "execution_count": 111,
   "id": "dutch-ultimate",
   "metadata": {},
   "outputs": [],
   "source": [
    "# Create list of tuples containing the highest value class and the probability \n",
    "for i, out in enumerate(output):\n",
    "    predictions.append((np.argmax(out), np.max(out)))\n",
    "    test_predictions.append(np.argmax(out))"
   ]
  },
  {
   "cell_type": "code",
   "execution_count": 112,
   "id": "industrial-perry",
   "metadata": {},
   "outputs": [
    {
     "name": "stdout",
     "output_type": "stream",
     "text": [
      "(7, 0.9999999)\n",
      "(2, 1.0)\n",
      "(1, 0.99999404)\n",
      "(0, 1.0)\n",
      "(4, 1.0)\n"
     ]
    }
   ],
   "source": [
    "for i in range(5):\n",
    "    print(predictions[i])"
   ]
  },
  {
   "cell_type": "code",
   "execution_count": 113,
   "id": "related-healthcare",
   "metadata": {},
   "outputs": [
    {
     "name": "stdout",
     "output_type": "stream",
     "text": [
      "[7 2 1 0 4]\n",
      "[7, 2, 1, 0, 4]\n"
     ]
    }
   ],
   "source": [
    "print(test_y[:5])\n",
    "print(test_predictions[:5])"
   ]
  },
  {
   "cell_type": "code",
   "execution_count": 118,
   "id": "atomic-revision",
   "metadata": {},
   "outputs": [],
   "source": [
    "# Calculate accuracy\n",
    "num_correct = 0\n",
    "for i, true in enumerate(test_y):\n",
    "    if true == test_predictions[i]:\n",
    "        num_correct += 1\n",
    "test_accuracy = num_correct / len(test_y)"
   ]
  },
  {
   "cell_type": "code",
   "execution_count": 119,
   "id": "confirmed-scott",
   "metadata": {},
   "outputs": [
    {
     "name": "stdout",
     "output_type": "stream",
     "text": [
      "0.9814\n"
     ]
    }
   ],
   "source": [
    "print(test_accuracy)"
   ]
  },
  {
   "cell_type": "code",
   "execution_count": 128,
   "id": "maritime-annex",
   "metadata": {},
   "outputs": [
    {
     "name": "stdout",
     "output_type": "stream",
     "text": [
      "313/313 [==============================] - 0s 1ms/step - loss: 0.1069 - accuracy: 0.9802\n"
     ]
    },
    {
     "data": {
      "text/plain": [
       "[0.106863833963871, 0.9801999926567078]"
      ]
     },
     "execution_count": 128,
     "metadata": {},
     "output_type": "execute_result"
    }
   ],
   "source": [
    "# This does what I just did, whoops\n",
    "model.evaluate(test_x, test_y)"
   ]
  },
  {
   "cell_type": "code",
   "execution_count": 127,
   "id": "spectacular-vacation",
   "metadata": {},
   "outputs": [
    {
     "name": "stdout",
     "output_type": "stream",
     "text": [
      "INFO:tensorflow:Assets written to: models/baseline_model/assets\n"
     ]
    }
   ],
   "source": [
    "model.save(filepath='models/baseline_model')"
   ]
  },
  {
   "cell_type": "code",
   "execution_count": null,
   "id": "vanilla-selection",
   "metadata": {},
   "outputs": [],
   "source": []
  }
 ],
 "metadata": {
  "kernelspec": {
   "display_name": "Python 3",
   "language": "python",
   "name": "python3"
  },
  "language_info": {
   "codemirror_mode": {
    "name": "ipython",
    "version": 3
   },
   "file_extension": ".py",
   "mimetype": "text/x-python",
   "name": "python",
   "nbconvert_exporter": "python",
   "pygments_lexer": "ipython3",
   "version": "3.8.6"
  }
 },
 "nbformat": 4,
 "nbformat_minor": 5
}
